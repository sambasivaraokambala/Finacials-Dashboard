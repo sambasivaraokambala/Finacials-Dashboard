{
 "cells": [
  {
   "cell_type": "code",
   "execution_count": null,
   "metadata": {},
   "outputs": [],
   "source": [
    "# import required libraries\n",
    "import json\n",
    "import requests\n",
    "import pandas as pd\n",
    "import plotly.graph_objects as go\n",
    "import dash\n",
    "import dash_core_components as dcc\n",
    "import dash_html_components as html\n",
    "from dash.dependencies import Input,Output"
   ]
  },
  {
   "cell_type": "code",
   "execution_count": null,
   "metadata": {},
   "outputs": [],
   "source": [
    "\n",
    "financial_statement = \"income-statement\"\n",
    "\n",
    "url = \"https://financial-statements.p.rapidapi.com/api/v1/resources/\"+financial_statement\n",
    "querystring = {\"ticker\":\"AAPL\"}\n",
    "\n",
    "headers = {\n",
    "    'x-rapidapi-key': \"a107f0d377msh48cc37df0c02d0ep17e87cjsn99d9e2171e36\",\n",
    "    'x-rapidapi-host': \"financial-statements.p.rapidapi.com\"\n",
    "    }\n",
    "balance_sheet_response = requests.request(\"GET\",url,headers=headers ,params = querystring)\n",
    "balance_sheet_df = pd.DataFrame.from_dict(balance_sheet_response.json())\n",
    "balance_sheet_df"
   ]
  },
  {
   "cell_type": "code",
   "execution_count": null,
   "metadata": {},
   "outputs": [],
   "source": [
    "# Create the dash application\n",
    "\n",
    "app = dash.Dash(__name__)"
   ]
  },
  {
   "cell_type": "code",
   "execution_count": null,
   "metadata": {},
   "outputs": [],
   "source": [
    "# Get the layout of the application and adjust it\n",
    "# Create an outer division using html.Div and add title to it using html.H1 components\n",
    "# Add html.div and core input text component\n",
    "# Finally, add group component board\n",
    "\n",
    "app.layout = html.Div(children = [html.H1('Finanacials Dashboard',style = {'textAlign':'center','color':'green',\n",
    "                                                                          'font-size': 40}),\n",
    "                                  html.Div([\"Company ticker:\",dcc.Input(id = 'company-ticker',value = 'AAPL',type = 'str',\n",
    "                                                                       style = {'height':'50px','font-size':35})],\n",
    "                                          style = {'font-size':40,'color':'black'})\n",
    "                                  html.br()\n",
    "                                  html.br()\n",
    "                                 ])\n",
    "\n",
    "\n",
    "# Run the app\n",
    "if __name__ == '__main__':\n",
    "    app.run_server()"
   ]
  },
  {
   "cell_type": "code",
   "execution_count": null,
   "metadata": {},
   "outputs": [],
   "source": []
  },
  {
   "cell_type": "code",
   "execution_count": null,
   "metadata": {},
   "outputs": [],
   "source": []
  }
 ],
 "metadata": {
  "kernelspec": {
   "display_name": "Python 3",
   "language": "python",
   "name": "python3"
  },
  "language_info": {
   "codemirror_mode": {
    "name": "ipython",
    "version": 3
   },
   "file_extension": ".py",
   "mimetype": "text/x-python",
   "name": "python",
   "nbconvert_exporter": "python",
   "pygments_lexer": "ipython3",
   "version": "3.8.5"
  }
 },
 "nbformat": 4,
 "nbformat_minor": 4
}
