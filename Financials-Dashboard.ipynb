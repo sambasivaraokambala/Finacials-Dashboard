{
 "cells": [
  {
   "cell_type": "code",
   "execution_count": 3,
   "metadata": {},
   "outputs": [],
   "source": [
    "import json\n",
    "import requests\n",
    "import pandas as pd"
   ]
  },
  {
   "cell_type": "code",
   "execution_count": 15,
   "metadata": {},
   "outputs": [
    {
     "ename": "NameError",
     "evalue": "name 'financial' is not defined",
     "output_type": "error",
     "traceback": [
      "\u001b[1;31m---------------------------------------------------------------------------\u001b[0m",
      "\u001b[1;31mNameError\u001b[0m                                 Traceback (most recent call last)",
      "\u001b[1;32m<ipython-input-15-8f1b5bff97cb>\u001b[0m in \u001b[0;36m<module>\u001b[1;34m\u001b[0m\n\u001b[0;32m      1\u001b[0m \u001b[0mfinancial_statement\u001b[0m \u001b[1;33m=\u001b[0m \u001b[1;34m\"income-statement\"\u001b[0m\u001b[1;33m\u001b[0m\u001b[1;33m\u001b[0m\u001b[0m\n\u001b[0;32m      2\u001b[0m \u001b[1;33m\u001b[0m\u001b[0m\n\u001b[1;32m----> 3\u001b[1;33m \u001b[0murl\u001b[0m \u001b[1;33m=\u001b[0m \u001b[1;34m\"https://financial-statements.p.rapidapi.com/api/v1/resources/\"\u001b[0m\u001b[1;33m+\u001b[0m\u001b[0mfinancial\u001b[0m\u001b[1;33m-\u001b[0m\u001b[0mstatement\u001b[0m\u001b[1;33m\u001b[0m\u001b[1;33m\u001b[0m\u001b[0m\n\u001b[0m\u001b[0;32m      4\u001b[0m \u001b[0mquerystring\u001b[0m \u001b[1;33m=\u001b[0m \u001b[1;33m{\u001b[0m\u001b[1;34m\"ticker\"\u001b[0m\u001b[1;33m:\u001b[0m\u001b[1;34m\"AAPL\"\u001b[0m\u001b[1;33m}\u001b[0m\u001b[1;33m\u001b[0m\u001b[1;33m\u001b[0m\u001b[0m\n\u001b[0;32m      5\u001b[0m \u001b[1;33m\u001b[0m\u001b[0m\n",
      "\u001b[1;31mNameError\u001b[0m: name 'financial' is not defined"
     ]
    }
   ],
   "source": [
    "\n",
    "financial_statement = \"income-statement\"\n",
    "\n",
    "url = \"https://financial-statements.p.rapidapi.com/api/v1/resources/\"+financial-statement\n",
    "querystring = {\"ticker\":\"AAPL\"}\n",
    "\n",
    "headers = {\n",
    "    'x-rapidapi-key': \"a107f0d377msh48cc37df0c02d0ep17e87cjsn99d9e2171e36\",\n",
    "    'x-rapidapi-host': \"financial-statements.p.rapidapi.com\"\n",
    "    }\n",
    "balance_sheet_response = requests.request(\"GET\",url,headers=headers ,params = querystring)\n",
    "balance_sheet_df = pd.DataFrame.from_dict(balance_sheet_response.json())\n",
    "balance_sheet_df"
   ]
  },
  {
   "cell_type": "code",
   "execution_count": 11,
   "metadata": {},
   "outputs": [
    {
     "ename": "SyntaxError",
     "evalue": "cannot assign to operator (<ipython-input-11-198789675a32>, line 15)",
     "output_type": "error",
     "traceback": [
      "\u001b[1;36m  File \u001b[1;32m\"<ipython-input-11-198789675a32>\"\u001b[1;36m, line \u001b[1;32m15\u001b[0m\n\u001b[1;33m    income-statement-df = pd.DataFrame.from_dict(response.json())\u001b[0m\n\u001b[1;37m    ^\u001b[0m\n\u001b[1;31mSyntaxError\u001b[0m\u001b[1;31m:\u001b[0m cannot assign to operator\n"
     ]
    }
   ],
   "source": []
  },
  {
   "cell_type": "code",
   "execution_count": null,
   "metadata": {},
   "outputs": [],
   "source": []
  }
 ],
 "metadata": {
  "kernelspec": {
   "display_name": "Python 3",
   "language": "python",
   "name": "python3"
  },
  "language_info": {
   "codemirror_mode": {
    "name": "ipython",
    "version": 3
   },
   "file_extension": ".py",
   "mimetype": "text/x-python",
   "name": "python",
   "nbconvert_exporter": "python",
   "pygments_lexer": "ipython3",
   "version": "3.8.5"
  }
 },
 "nbformat": 4,
 "nbformat_minor": 4
}
